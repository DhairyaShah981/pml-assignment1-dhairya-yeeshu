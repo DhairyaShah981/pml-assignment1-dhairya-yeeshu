{
 "cells": [
  {
   "cell_type": "code",
   "execution_count": 1,
   "metadata": {},
   "outputs": [],
   "source": [
    "import numpy as np\n",
    "import torch\n",
    "import matplotlib.pyplot as plt"
   ]
  },
  {
   "cell_type": "code",
   "execution_count": 2,
   "metadata": {},
   "outputs": [],
   "source": [
    "# setting plot style\n",
    "from tueplots import bundles\n",
    "plt.rcParams.update(bundles.beamer_moml())\n",
    "\n",
    "# Also add despine to the bundle using rcParams\n",
    "plt.rcParams['axes.spines.right'] = False\n",
    "plt.rcParams['axes.spines.top'] = False\n",
    "plt.rcParams['font.family'] = 'sans-serif'\n",
    "\n",
    "# Increase font size to match Beamer template\n",
    "plt.rcParams['font.size'] = 16\n",
    "\n",
    "# Make background transparent\n",
    "plt.rcParams['figure.facecolor'] = 'none'"
   ]
  },
  {
   "cell_type": "markdown",
   "metadata": {},
   "source": [
    "---"
   ]
  },
  {
   "cell_type": "markdown",
   "metadata": {},
   "source": [
    "# Q4\n",
    "\n",
    "Analytically derive the MLE for exponential distribution. Generate some data (1000 data points) using some fixed parameter values and see if you can recover the analytical parameters using gradient descent based solution for obtaining MLE. [1 mark]"
   ]
  },
  {
   "cell_type": "markdown",
   "metadata": {},
   "source": [
    "<______________- ________derivation____ - __________________>"
   ]
  },
  {
   "cell_type": "code",
   "execution_count": 3,
   "metadata": {},
   "outputs": [],
   "source": [
    "# Generating 1000 sample from exponential distribution\n",
    "lambda_true = 4.0           # rate parameter of exponential distribution\n",
    "n = 1000\n",
    "\n",
    "_exponential = torch.distributions.exponential.Exponential(rate=lambda_true)    # creating object of exponential distribution\n",
    "data = _exponential.sample((n,))                                                # generating 1000 samples from exponential distribution"
   ]
  },
  {
   "cell_type": "code",
   "execution_count": 4,
   "metadata": {},
   "outputs": [],
   "source": [
    "# defining negative log likelihood function (loss function)\n",
    "def nll_eponential_dist(lambda_param, X):\n",
    "    n = X.shape[0]\n",
    "    return -n*torch.log(lambda_param) + lambda_param * torch.sum(X)"
   ]
  },
  {
   "cell_type": "code",
   "execution_count": 5,
   "metadata": {},
   "outputs": [
    {
     "name": "stdout",
     "output_type": "stream",
     "text": [
      "tensor(4.0907, grad_fn=<SelectBackward0>)\n"
     ]
    }
   ],
   "source": [
    "# optimizing lambda parameter using gradient descent\n",
    "lr = 0.01\n",
    "num_itr = 10000\n",
    "\n",
    "lambda_param = torch.tensor([0.1], dtype=torch.float32, requires_grad=True)\n",
    "\n",
    "optimizer = torch.optim.Adam([lambda_param], lr=lr)\n",
    "\n",
    "for i in range(num_itr):\n",
    "    optimizer.zero_grad()\n",
    "    loss = nll_eponential_dist(lambda_param, data)\n",
    "    loss.backward()\n",
    "    optimizer.step()\n",
    "\n",
    "print(lambda_param[0])"
   ]
  },
  {
   "cell_type": "markdown",
   "metadata": {},
   "source": [
    "### Conclusion:\n",
    "- We are able to recover the true value of the parameter $\\lambda$ using gradient descent based solution for obtaining MLE. The recovered value is very close to the true value of $\\lambda$ (upto one decimal place).\n",
    "- The recovered value changes as the different samples are drawn from the distribution. The gradient descent based approach is finding the optimal value of $\\lambda$ for the given sample. Therefore, each time we draw the sample, there is sligh variation in sample itself and the recovered value of $\\lambda$ is different because of finite sample size. In other words, the recovered $\\lambda$ is sample rate parameter and the true lambda is population rate parameter.\n",
    "- As we increase the sample size, the sample reaches towards population and the recovered value of $\\lambda$ converges to the true value of $\\lambda$.\n",
    "\n",
    "Some of the $\\lambda$ values for different samples (true value of $\\lambda$ is 4):\n",
    "4.0503, 4.0639, 4.1581, 3.7236"
   ]
  },
  {
   "cell_type": "markdown",
   "metadata": {},
   "source": [
    "---"
   ]
  },
  {
   "cell_type": "markdown",
   "metadata": {},
   "source": [
    "# Q5\n",
    "Generate some data (100 data points) using a univariate Normal distribution with loc=2.0 and scale=4.0. Now, create datasets of size 10, 20, 50, 100, 500, 1000, 5000, 10000. We will use a different random seed to create ten different datasets for each of these sizes. For each of these datasets, find the MLE parameters for the loc and scale using gradient descent. Plot the estimates of loc and scale as a function of the dataset size. What can you conclude? [1 mark]"
   ]
  },
  {
   "cell_type": "code",
   "execution_count": 3,
   "metadata": {},
   "outputs": [],
   "source": [
    "def nll_normal_dist(parameters, X):\n",
    "    '''\n",
    "    Negative log-likelihood for a normal distribution.\n",
    "    '''\n",
    "    mu, sigma = parameters\n",
    "    n = len(X)\n",
    "    return (n/2)*torch.log(torch.tensor(2*np.pi)) + (n/2)*torch.log(sigma**2) + (1/(2*sigma**2))*torch.sum((X - mu)**2)"
   ]
  },
  {
   "cell_type": "code",
   "execution_count": 4,
   "metadata": {},
   "outputs": [],
   "source": [
    "def MLE_normal_dist(data):\n",
    "    '''\n",
    "    Compute the MLE of the mean and variance of a normal distribution given data.\n",
    "    '''\n",
    "    lr = 0.05\n",
    "    num_itr = 30000\n",
    "\n",
    "    mu_param = 0.0\n",
    "    sigma_param = 0.1       # sigma_param != 0.0 otherwise torch.log(sigma**2) will be undefined and loss.backward() will return None\n",
    "    parameters = torch.tensor([mu_param, sigma_param], requires_grad=True)\n",
    "    optimizer = torch.optim.Adam([parameters], lr=lr)\n",
    "\n",
    "    for i in range(num_itr):\n",
    "        optimizer.zero_grad()\n",
    "        loss = nll_normal_dist(parameters, data)\n",
    "        loss.backward()\n",
    "        optimizer.step()\n",
    "    return parameters[0].detach(), parameters[1].detach()"
   ]
  },
  {
   "cell_type": "code",
   "execution_count": null,
   "metadata": {},
   "outputs": [],
   "source": [
    "mu_true = 2.0\n",
    "sigma_true = 4.0\n",
    "random_seeds = [1, 2, 3, 4, 5, 6, 7, 8, 9, 10]\n",
    "# random_seeds = [1, 2, 3]\n",
    "mu_tensor = torch.empty((8, 10))        # 8 dataste_sizes, 10 random seeds\n",
    "sigma_tensor = torch.empty((8, 10))     # 8 dataste_sizes, 10 random seeds\n",
    "dataset_sizes = [10, 20, 50, 100, 500, 1000, 5000, 10000]\n",
    "i = 0\n",
    "for dataste_size in dataset_sizes:\n",
    "# for dataste_size in [10000]:\n",
    "    j = 0\n",
    "    for seed in random_seeds:\n",
    "        torch.manual_seed(seed)\n",
    "        _normal = torch.distributions.Normal(loc=mu_true, scale=sigma_true)\n",
    "        data = _normal.sample((dataste_size,))\n",
    "        mu_estimated = MLE_normal_dist(data)[0]\n",
    "        sigma_estimated = MLE_normal_dist(data)[1]\n",
    "        mu_tensor[i][j] = mu_estimated\n",
    "        sigma_tensor[i][j] = sigma_estimated\n",
    "        print(\"inner loop\", i, j, mu_estimated, sigma_estimated)\n",
    "        j += 1\n",
    "    i += 1"
   ]
  },
  {
   "cell_type": "code",
   "execution_count": null,
   "metadata": {},
   "outputs": [],
   "source": [
    "# for each of the dataset size, find the average mu and sigma\n",
    "mus = torch.mean(mu_tensor, dim=1)\n",
    "sigmas = torch.mean(sigma_tensor, dim=1)\n",
    "\n",
    "print(\"mus: \", mus)\n",
    "print(\"sigmas: \", sigmas)"
   ]
  },
  {
   "cell_type": "code",
   "execution_count": 59,
   "metadata": {},
   "outputs": [
    {
     "data": {
      "image/png": "[encoded data removed]",
      "text/plain": [
       "<Figure size 551.181x267.405 with 1 Axes>"
      ]
     },
     "metadata": {
      "needs_background": "light"
     },
     "output_type": "display_data"
    }
   ],
   "source": [
    "# Plotting the mean vs dataset size\n",
    "plt.scatter(dataset_sizes, mus, label = \"estimated mean\")\n",
    "plt.axhline(y=mu_true, color='blue', linestyle='--', label='True mean')\n",
    "plt.xlabel(\"Data size (log scale)\")\n",
    "plt.ylabel(\"Mean\")\n",
    "plt.xscale(\"log\")\n",
    "plt.xticks(dataset_sizes, dataset_sizes)\n",
    "plt.legend()\n",
    "plt.show()"
   ]
  },
  {
   "cell_type": "code",
   "execution_count": 58,
   "metadata": {},
   "outputs": [
    {
     "data": {
      "image/png": "[encoded data removed]",
      "text/plain": [
       "<Figure size 551.181x267.405 with 1 Axes>"
      ]
     },
     "metadata": {
      "needs_background": "light"
     },
     "output_type": "display_data"
    }
   ],
   "source": [
    "# Plotting the varience vs dataset size\n",
    "plt.scatter(dataset_sizes, sigmas, label = \"estimated standard deviation\")\n",
    "plt.axhline(y=sigma_true, color='blue', linestyle='--', label='True standard deviation')\n",
    "plt.xlabel(\"Data size (log scale)\")\n",
    "plt.ylabel(\"Standard deviation\")\n",
    "plt.xscale(\"log\")\n",
    "plt.xticks(dataset_sizes, dataset_sizes)\n",
    "plt.legend()\n",
    "plt.show()"
   ]
  },
  {
   "cell_type": "markdown",
   "metadata": {},
   "source": [
    "### Conclusion\n",
    "- Mean is an unbiased estimator of the population mean.\n",
    "- Variance is a biased estimator of the population variance."
   ]
  },
  {
   "cell_type": "code",
   "execution_count": null,
   "metadata": {},
   "outputs": [],
   "source": []
  }
 ],
 "metadata": {
  "kernelspec": {
   "display_name": "pc1",
   "language": "python",
   "name": "python3"
  },
  "language_info": {
   "codemirror_mode": {
    "name": "ipython",
    "version": 3
   },
   "file_extension": ".py",
   "mimetype": "text/x-python",
   "name": "python",
   "nbconvert_exporter": "python",
   "pygments_lexer": "ipython3",
   "version": "3.11.4"
  },
  "orig_nbformat": 4
 },
 "nbformat": 4,
 "nbformat_minor": 2
}
